{
 "cells": [
  {
   "cell_type": "markdown",
   "metadata": {},
   "source": [
    "# Final Assignment "
   ]
  },
  {
   "cell_type": "markdown",
   "metadata": {
    "pycharm": {
     "name": "#%%\n"
    }
   },
   "source": [
    "I will check the solutions given for similarities. If you work out the solution to individual tasks together with fellow students, you must indicate this in the solutions to the corresponding tasks. Solve the tasks before 5th of June 2022. You are only allowed to import the following modules:"
   ]
  },
  {
   "cell_type": "code",
   "execution_count": null,
   "metadata": {},
   "outputs": [],
   "source": [
    "#SHAHED IQBAL CHOWDHURY\n",
    "#ID : 230639\n",
    "import pandas as pd\n",
    "import numpy as np\n",
    "import matplotlib.pyplot as plt\n",
    "from tqdm import tqdm\n",
    "\n",
    "\n",
    "import statsmodels.api as sm\n",
    "import statsmodels.formula.api as smf\n",
    "\n",
    "import pickle\n",
    "\n",
    "#from selenium import webdriver\n",
    "#import json"
   ]
  },
  {
   "cell_type": "markdown",
   "metadata": {},
   "source": [
    "## 1. Data preprocessing and plots"
   ]
  },
  {
   "cell_type": "markdown",
   "metadata": {
    "pycharm": {
     "name": "#%% md\n"
    }
   },
   "source": [
    "**1.1** Import 'players_21.csv' as a pandas data dataframe. Define a new column 'value' with stores the market value ('value_eur') in millions."
   ]
  },
  {
   "cell_type": "code",
   "execution_count": null,
   "metadata": {
    "pycharm": {
     "name": "#%%\n"
    },
    "scrolled": true
   },
   "outputs": [],
   "source": [
    "df = pd.read_csv('C:/Users/Asus/Downloads/Shahed_PY/Shahed_PY/Shahed_PY/players_21.csv')\n",
    "df.head(5)"
   ]
  },
  {
   "cell_type": "code",
   "execution_count": null,
   "metadata": {},
   "outputs": [],
   "source": [
    "df.columns = df.columns.str.strip()\n",
    "df.columns"
   ]
  },
  {
   "cell_type": "code",
   "execution_count": null,
   "metadata": {},
   "outputs": [],
   "source": [
    "df['value_eur'].value_counts(dropna=True) \n",
    "value = df['value_eur'] / 1000000 \n",
    "df['value'] = value\n",
    "df['value'].head(10)"
   ]
  },
  {
   "cell_type": "code",
   "execution_count": null,
   "metadata": {},
   "outputs": [],
   "source": [
    "\n"
   ]
  },
  {
   "cell_type": "markdown",
   "metadata": {
    "pycharm": {
     "name": "#%% md\n"
    }
   },
   "source": [
    "**1.2** Show the most valuable player for each position ('team_position'). Display the position, the name ('short_name'), and the market value in millions."
   ]
  },
  {
   "cell_type": "code",
   "execution_count": null,
   "metadata": {},
   "outputs": [],
   "source": [
    "#Show the most valuable player for each position ('team_position')\n",
    "df.sort_values(by=['team_position'], axis=0, ascending=True, inplace=True)\n",
    "tf = df['team_position'].head(5)\n",
    "print(tf)"
   ]
  },
  {
   "cell_type": "code",
   "execution_count": null,
   "metadata": {},
   "outputs": [],
   "source": [
    "#Display the position, the name ('short_name'), and the market value in millions.\n",
    "df.sort_values(by=['short_name', 'value'], axis=0, ascending=True, inplace=True)\n",
    "tf1 = df['short_name'].head(5)\n",
    "print(tf1)\n",
    "market_value_in_millions = df['value'].head(5)\n",
    "print(market_value_in_millions)\n",
    "\n",
    "#Market_value\n",
    "#df.sort_values(by=['value_eur'], axis=0, ascending=True, inplace=True)\n",
    "#print(value)\n",
    "#df.sort_values(by=['value'], axis=0, ascending=True, inplace=True)\n",
    "#tf1 = df['short_name'].head(5)\n",
    "#print(tf1)"
   ]
  },
  {
   "cell_type": "markdown",
   "metadata": {
    "pycharm": {
     "name": "#%% md\n"
    }
   },
   "source": [
    "**1.3** Show the 10 most valuable teams ('club_name')! Display the total market value and the\n",
    "size of the squad!"
   ]
  },
  {
   "cell_type": "code",
   "execution_count": null,
   "metadata": {
    "pycharm": {
     "name": "#%%\n"
    }
   },
   "outputs": [],
   "source": [
    "df.sort_values(by=['club_name', 'value', 'player_positions'], axis=0, ascending=True, inplace=True)\n",
    "df_teams = df['club_name'].head(10)\n",
    "print(df_teams)\n",
    "df_marketvalue = df['value'].head(10)\n",
    "print(df_marketvalue)"
   ]
  },
  {
   "cell_type": "code",
   "execution_count": null,
   "metadata": {},
   "outputs": [],
   "source": [
    "df_positions = df['player_positions'].head(10)\n",
    "print(df_positions)"
   ]
  },
  {
   "cell_type": "markdown",
   "metadata": {},
   "source": [
    "**1.4** Plot the minium, the mean and the maximum value for each overall player strength group. (Replicate ``'overall.pdf'.``)\n"
   ]
  },
  {
   "cell_type": "code",
   "execution_count": null,
   "metadata": {
    "pycharm": {
     "name": "#%%\n"
    }
   },
   "outputs": [],
   "source": [
    "mean = df[[\"overall\", \"value\"]].groupby('overall').mean()[\"value\"]\n",
    "maximum = df[[\"overall\", \"value\"]].groupby('overall').max()[\"value\"]\n",
    "minimum = df[[\"overall\", \"value\"]].groupby('overall').min()[\"value\"]\n",
    "plt.plot(minimum)\n",
    "plt.plot(mean)\n",
    "plt.plot(maximum)\n",
    "plt.xlabel('overall')\n",
    "plt.ylabel('value in millions')\n",
    "plt.legend(['minimum', 'mean', 'maximum'])\n",
    "plt.show()"
   ]
  },
  {
   "cell_type": "code",
   "execution_count": null,
   "metadata": {},
   "outputs": [],
   "source": []
  },
  {
   "cell_type": "code",
   "execution_count": null,
   "metadata": {},
   "outputs": [],
   "source": [
    "##Need to check again\n",
    "##fig, ax = plt.subplots()\n",
    "##df.plot(x = 'overall', y = 'value', ax = ax)\n",
    "#df.plot(x = 'overall', y = 'overall', ax = ax, secondary_y = True)\n",
    "#plt.savefig('overall.pdf')\n",
    "\n"
   ]
  },
  {
   "cell_type": "markdown",
   "metadata": {},
   "source": [
    "***1.5*** Add lines of code in the following template to replicate ``'potential.pdf'``. Explain precisely the line where dot_color is determined and why this solution is not efficient."
   ]
  },
  {
   "cell_type": "code",
   "execution_count": null,
   "metadata": {
    "pycharm": {
     "name": "#%%\n"
    }
   },
   "outputs": [],
   "source": [
    "#Create a matrix filled with zeros and dimension 100x100\n",
    "mat = np.zeros((100, 100))\n",
    "\n",
    "for ov,pot in zip(df['overall'],df['potential']):\n",
    "    incr = ov + 1 # Increase the value in the matrix in ov row and the pot column by 1\n",
    "    incr1 = pot + 1\n",
    "colors=[('w',0),('y',1),('c',5),('g',20),('b',50),('k',100)]\n",
    "print(colors)\n",
    "\n",
    "# Iterate over ov grid\n",
    "for overall in df:\n",
    "    df[overall].head(5)\n",
    "    \n",
    "# Iterate over pot grid\n",
    "for potential in df:\n",
    "    df[overall].head(5)\n",
    "    dot_color = [color for color,value in colors if value<=mat[ov,pot]][-1]\n",
    "     \n",
    "        # Plot a dot with ov as x,pot as y and dot_color as color\n",
    "plt.plot(ov)\n",
    "plt.plot(pot)\n",
    "plt.legend(['overall', 'potential'])\n",
    "plt.show()    \n",
    "\n",
    "#Add the x and y label\n",
    "plt.xlabel('overall')\n",
    "plt.ylabel('potential')\n",
    "#Save the figure\n",
    "plt.savefig('my_plot.png')"
   ]
  },
  {
   "cell_type": "markdown",
   "metadata": {},
   "source": [
    "## 2. Regression"
   ]
  },
  {
   "cell_type": "markdown",
   "metadata": {},
   "source": [
    "***2.1*** Delete all players where the value is zero."
   ]
  },
  {
   "cell_type": "code",
   "execution_count": null,
   "metadata": {},
   "outputs": [],
   "source": [
    "df= df[df['value'] != 0]\n",
    "df.head(5)"
   ]
  },
  {
   "cell_type": "markdown",
   "metadata": {},
   "source": [
    "***2.2*** Regress the logarithmic player value on the overall strength and potential of the player.  Which player is the most overvalued (highest residual value)?"
   ]
  },
  {
   "cell_type": "code",
   "execution_count": null,
   "metadata": {},
   "outputs": [],
   "source": [
    "X = df[['overall', 'potential']]\n",
    "Y = df[\"value\"]\n",
    "\n",
    "X = sm.add_constant(X)\n",
    "\n",
    "model = sm.OLS(Y, X).fit()\n",
    "predictions = model.predict(X) \n",
    "\n",
    "print_model = model.summary()\n",
    "print(print_model)\n"
   ]
  },
  {
   "cell_type": "markdown",
   "metadata": {},
   "source": [
    "***2.3*** Create dummies for the player positions. Note that several positions are possible per player."
   ]
  },
  {
   "cell_type": "code",
   "execution_count": null,
   "metadata": {},
   "outputs": [],
   "source": [
    "#NEED TO TRY ONCE AGAIN Later\n",
    "positions=set()\n",
    "for pos in df['player_positions']:\n",
    "    positions.update(pos.split(', '))\n",
    "print(positions)\n",
    "\n",
    "    "
   ]
  },
  {
   "cell_type": "markdown",
   "metadata": {},
   "source": [
    "***2.4*** Regress the logarithmic player value on age, the squared age, Body-Mass-Index and, the player position dummies. Hint: The BMI is ``weight / height**2``."
   ]
  },
  {
   "cell_type": "code",
   "execution_count": null,
   "metadata": {},
   "outputs": [],
   "source": [
    "#FORMULA_AFTER_SOLVING 2.3"
   ]
  },
  {
   "cell_type": "markdown",
   "metadata": {},
   "source": [
    "***2.5*** Use the same model as in the last task. Now estimate all possible models in which you omit one explanatory variable. Which has the highest and lowest influence on the R Squared?"
   ]
  },
  {
   "cell_type": "code",
   "execution_count": null,
   "metadata": {},
   "outputs": [],
   "source": [
    "r2_dict={}\n",
    "\n",
    "\n",
    "\n",
    "\n",
    "print(pd.Series(r2_dict).sort_values())"
   ]
  },
  {
   "cell_type": "markdown",
   "metadata": {
    "pycharm": {
     "name": "#%% md\n"
    }
   },
   "source": [
    "## 3. Password\n",
    "\n",
    "Create a program that performs the following tasks: (You are only allowed to import time and pickle. Use ``password.py`` as a template.)\n",
    "\n",
    "1. When you start the program it aks you to enter a password. \n",
    "\n",
    "2. The password is stored in a pickle file. If the password is incorrect, it should be requested again. If the password is correct, you can choose between the following options:\n",
    "    \n",
    "    2.1. S: Show the information which is stored in 'secret_file.txt'!\n",
    "\n",
    "    2.2. C: Change the password.\n",
    "\n",
    "    2.3. L: Lock the program. (Go back to password request.)\n",
    "\n",
    "    2.4. X: Exit the program.\n",
    "\n",
    "3. If there is no pickle file with a password, it should ask you to set a new password and then store it into the pickle file.\n",
    "\n",
    "4. If one enters the wrong password five times, it should wait for 10 seconds until it shows the message. \n",
    "\n",
    "5. It should check if the password has a minimum length of 8 and if consists of at least one number. It should also print if the requirement is fulfilled.\n",
    "\n",
    "\n",
    "\n",
    "\n"
   ]
  },
  {
   "cell_type": "code",
   "execution_count": null,
   "metadata": {},
   "outputs": [],
   "source": [
    "##f = open('C:/Users/Asus/Downloads/Shahed_PY/Shahed_PY/Shahed_PY/secret_file.txt','r')"
   ]
  },
  {
   "cell_type": "code",
   "execution_count": null,
   "metadata": {},
   "outputs": [],
   "source": [
    "\n",
    "\n",
    "import pickle\n",
    "import time\n",
    "from termcolor import colored\n",
    "\n",
    "def change_pw():\n",
    "    while True:\n",
    "        new_password = input('Set your password:\\n')\n",
    "\n",
    "        if new_password==\"E\":\n",
    "            continue\n",
    "        if len(new_password) != 8 and not any([i.isdigit() for i in new_password]):\n",
    "            print(colored('Passwords must be 8 charactors long and 1 of the charactor should be digit.','yellow'))\n",
    "            continue\n",
    "        if new_password != input('Confirm password:\\n') :\n",
    "            print(colored('Both Passwords must be equal.','red'))\n",
    "            continue\n",
    "        pickle.dump(new_password,open('C:/Users/Asus/Downloads/Shahed_PY/Shahed_PY/Shahed_PY/secret_file.txt', 'wb'))\n",
    "        print('Password successfully changed.')\n",
    "        return new_password\n",
    "\n",
    "def read_pw():\n",
    "        new_password = pickle.load(open('C:/Users/Asus/Downloads/Shahed_PY/Shahed_PY/Shahed_PY/secret_file.txt', 'rb'))\n",
    "        return new_password\n",
    "\n",
    "failures=0\n",
    "while True:\n",
    "    try:\n",
    "        password = read_pw()\n",
    "    except:\n",
    "        password = change_pw()\n",
    "\n",
    "    enter_password= input('Enter the password. (Or enter \"E\" to exit.)\\n')\n",
    "\n",
    "    \n",
    "\n",
    "    if  enter_password == password:\n",
    "        while True:\n",
    "            option = input('Enter \"S\" to show secret file, Enter \"C\" to change the password, Enter \"L\" to lock, Enter \"X\" to exit the programm.\\n').upper()\n",
    "            if option == \"S\":\n",
    "                with open('C:/Users/Asus/Downloads/Shahed_PY/Shahed_PY/Shahed_PY/secret_file.txt','r') as f:\n",
    "                    print(f.read())\n",
    "                continue\n",
    "            if option == \"C\":\n",
    "                password = change_pw()\n",
    "                break\n",
    "            if option == \"L\":\n",
    "                break\n",
    "            if option == \"X\":\n",
    "                exit()\n",
    "            print(colored('No valid entry.', 'red'))\n",
    "    else:\n",
    "        print(colored('Wrong Password!', 'red'))\n",
    "        failures+=1\n",
    "        if failures==5:\n",
    "            time.sleep(10)\n",
    "            failures =0\n",
    "\n",
    "\n"
   ]
  },
  {
   "cell_type": "code",
   "execution_count": null,
   "metadata": {},
   "outputs": [],
   "source": []
  },
  {
   "cell_type": "markdown",
   "metadata": {},
   "source": [
    "## 4. Webscraping"
   ]
  },
  {
   "cell_type": "markdown",
   "metadata": {},
   "source": [
    "Create a program that queries all people on the English-language Wikipedia for a date in the format MM-DD are born on that day and saves it in a JSON file. (Note: See ``'07-13.json'`` as an example file.)"
   ]
  },
  {
   "cell_type": "code",
   "execution_count": null,
   "metadata": {},
   "outputs": [],
   "source": [
    "#NOT COMPLETED\n",
    "chrome_path=r'chromedriver.exe'\n",
    "driver = webdriver.Chrome(chrome_path)"
   ]
  },
  {
   "cell_type": "code",
   "execution_count": null,
   "metadata": {},
   "outputs": [],
   "source": [
    "date='07-13'\n",
    "\n",
    "month_list=['January','February','March','April','May','June','July','August','September','October','November','December']\n"
   ]
  },
  {
   "cell_type": "code",
   "execution_count": null,
   "metadata": {},
   "outputs": [],
   "source": [
    "caths = ['Events','Births','Deaths']\n",
    "data=[]\n",
    "cath_index=0\n",
    "last_year=-10e10\n",
    "for element in driver.find_elements_by_tag_name('li'):\n",
    "    try:\n",
    "        text=element.text\n",
    "        if ' – '  in text:\n",
    "            year= \n",
    "            year= -int(year[:year.find(' ')]) if 'BC' in year else int(year)\n",
    "            person= \n",
    "            discription = \n",
    "            \n",
    "                        \n",
    "            if year<last_year-1000:\n",
    "                cath_index+=1\n",
    "            last_year=year\n",
    "\n",
    "\n",
    "            if caths[cath_index]=='Births':\n",
    "                data.append()\n",
    "    except Exception as e:\n",
    "        print(e)\n",
    "        pass\n",
    "        \n",
    "json.dump(data,open(,'w'))"
   ]
  },
  {
   "cell_type": "code",
   "execution_count": null,
   "metadata": {},
   "outputs": [],
   "source": []
  }
 ],
 "metadata": {
  "kernelspec": {
   "display_name": "Python 3",
   "language": "python",
   "name": "python3"
  },
  "language_info": {
   "codemirror_mode": {
    "name": "ipython",
    "version": 3
   },
   "file_extension": ".py",
   "mimetype": "text/x-python",
   "name": "python",
   "nbconvert_exporter": "python",
   "pygments_lexer": "ipython3",
   "version": "3.8.5"
  }
 },
 "nbformat": 4,
 "nbformat_minor": 1
}
